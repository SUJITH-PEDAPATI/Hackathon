{
  "nbformat": 4,
  "nbformat_minor": 0,
  "metadata": {
    "colab": {
      "provenance": []
    },
    "kernelspec": {
      "name": "python3",
      "display_name": "Python 3"
    },
    "language_info": {
      "name": "python"
    }
  },
  "cells": [
    {
      "cell_type": "code",
      "execution_count": null,
      "metadata": {
        "colab": {
          "base_uri": "https://localhost:8080/"
        },
        "id": "RPK30NoM5kh3",
        "outputId": "3edf876c-42e3-4248-e0c8-242906a7c06c"
      },
      "outputs": [
        {
          "output_type": "stream",
          "name": "stderr",
          "text": [
            "/usr/local/lib/python3.11/dist-packages/sklearn/linear_model/_logistic.py:1247: FutureWarning: 'multi_class' was deprecated in version 1.5 and will be removed in 1.7. From then on, it will always use 'multinomial'. Leave it to its default value to avoid this warning.\n",
            "  warnings.warn(\n"
          ]
        },
        {
          "output_type": "stream",
          "name": "stdout",
          "text": [
            "Validation Accuracy: 0.91875\n",
            "              precision    recall  f1-score   support\n",
            "\n",
            "        farm       0.79      0.78      0.78       168\n",
            "      forest       0.97      0.96      0.97      1232\n",
            "       grass       0.62      0.62      0.62        39\n",
            "  impervious       0.77      0.87      0.82       134\n",
            "     orchard       0.57      0.67      0.62         6\n",
            "       water       0.58      0.52      0.55        21\n",
            "\n",
            "    accuracy                           0.92      1600\n",
            "   macro avg       0.72      0.74      0.72      1600\n",
            "weighted avg       0.92      0.92      0.92      1600\n",
            "\n",
            "✅ Final submission.csv saved!\n"
          ]
        }
      ],
      "source": [
        "import pandas as pd\n",
        "import numpy as np\n",
        "from sklearn.linear_model import LogisticRegression\n",
        "from sklearn.model_selection import train_test_split\n",
        "from sklearn.preprocessing import StandardScaler, PolynomialFeatures\n",
        "from sklearn.impute import SimpleImputer\n",
        "from sklearn.metrics import accuracy_score, classification_report\n",
        "\n",
        "\n",
        "train_df = pd.read_csv(\"hacktrain (5).csv\")\n",
        "test_df = pd.read_csv(\"hacktest (5).csv\")\n",
        "\n",
        "ndvi_columns = [col for col in train_df.columns if '_N' in col]\n",
        "\n",
        "imputer = SimpleImputer(strategy=\"mean\")\n",
        "train_ndvi = imputer.fit_transform(train_df[ndvi_columns])\n",
        "test_ndvi = imputer.transform(test_df[ndvi_columns])\n",
        "\n",
        "scaler = StandardScaler()\n",
        "train_ndvi_scaled = scaler.fit_transform(train_ndvi)\n",
        "test_ndvi_scaled = scaler.transform(test_ndvi)\n",
        "\n",
        "\n",
        "def engineer_features(ndvi_scaled, original_df):\n",
        "    df = pd.DataFrame(ndvi_scaled, columns=ndvi_columns)\n",
        "\n",
        "\n",
        "    df['ndvi_mean'] = df.mean(axis=1)\n",
        "    df['ndvi_std'] = df.std(axis=1)\n",
        "    df['ndvi_min'] = df.min(axis=1)\n",
        "    df['ndvi_max'] = df.max(axis=1)\n",
        "    df['ndvi_range'] = df['ndvi_max'] - df['ndvi_min']\n",
        "\n",
        "    df['early_mean'] = df[ndvi_columns[:9]].mean(axis=1)\n",
        "    df['mid_mean'] = df[ndvi_columns[9:18]].mean(axis=1)\n",
        "    df['late_mean'] = df[ndvi_columns[18:]].mean(axis=1)\n",
        "\n",
        "\n",
        "    x_time = np.arange(len(ndvi_columns))\n",
        "    df['ndvi_trend'] = [np.polyfit(x_time, row, 1)[0] for row in ndvi_scaled]\n",
        "\n",
        "    diffs = np.diff(ndvi_scaled, axis=1)\n",
        "    df['ndvi_lag_mean'] = diffs.mean(axis=1)\n",
        "    df['ndvi_lag_std'] = diffs.std(axis=1)\n",
        "    df['ndvi_max_diff'] = diffs.max(axis=1)\n",
        "\n",
        "\n",
        "    sorted_ndvi = np.sort(ndvi_scaled, axis=1)\n",
        "    for i in range(3):\n",
        "        df[f'top{i+1}_ndvi'] = sorted_ndvi[:, -i-1]\n",
        "\n",
        "\n",
        "    time = np.linspace(0, 1, len(ndvi_columns))\n",
        "    for k in [1, 2, 3]:\n",
        "        sin_proj = np.dot(ndvi_scaled, np.sin(2 * np.pi * k * time))\n",
        "        cos_proj = np.dot(ndvi_scaled, np.cos(2 * np.pi * k * time))\n",
        "        df[f'sin_{k}'] = sin_proj\n",
        "        df[f'cos_{k}'] = cos_proj\n",
        "\n",
        "    return df\n",
        "\n",
        "\n",
        "X_train_full = engineer_features(train_ndvi_scaled, train_df)\n",
        "X_test_full = engineer_features(test_ndvi_scaled, test_df)\n",
        "y = train_df['class']\n",
        "\n",
        "poly = PolynomialFeatures(degree=2, interaction_only=True, include_bias=False)\n",
        "X_poly = poly.fit_transform(X_train_full)\n",
        "X_test_poly = poly.transform(X_test_full)\n",
        "\n",
        "X_train, X_val, y_train, y_val = train_test_split(X_poly, y, stratify=y, test_size=0.2, random_state=42)\n",
        "\n",
        "model = LogisticRegression(\n",
        "    multi_class='multinomial',\n",
        "    max_iter=2000,\n",
        "    solver='lbfgs',\n",
        "    C=10,\n",
        "    class_weight='balanced',\n",
        "    random_state=42\n",
        ")\n",
        "model.fit(X_train, y_train)\n",
        "\n",
        "y_pred = model.predict(X_val)\n",
        "print(\"Validation Accuracy:\", accuracy_score(y_val, y_pred))\n",
        "print(classification_report(y_val, y_pred))\n",
        "\n",
        "test_preds = model.predict(X_test_poly)\n",
        "submission = pd.DataFrame({\n",
        "    \"ID\": test_df[\"ID\"],\n",
        "    \"class\": test_preds\n",
        "})\n",
        "submission.to_csv(\"submission (5).csv\", index=False)\n",
        "print(\"✅ Final submission.csv saved!\")\n"
      ]
    },
    {
      "cell_type": "code",
      "source": [],
      "metadata": {
        "id": "dd5F2DBV6I-8"
      },
      "execution_count": null,
      "outputs": []
    }
  ]
}